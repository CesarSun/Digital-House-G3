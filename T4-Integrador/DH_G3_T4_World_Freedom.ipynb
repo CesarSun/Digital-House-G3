{
 "cells": [
  {
   "cell_type": "code",
   "execution_count": 1,
   "id": "773f2b03-2587-4efd-85d5-bf5e92762fce",
   "metadata": {},
   "outputs": [],
   "source": [
    "import pandas as pd\n",
    "import numpy as np\n",
    "import matplotlib.pyplot as plt\n",
    "import seaborn as sns\n",
    "import plotly.express as px\n",
    "\n",
    "import warnings\n",
    "warnings.filterwarnings('ignore')\n",
    "\n",
    "from sklearn.linear_model import LinearRegression\n",
    "from sklearn.model_selection import train_test_split"
   ]
  },
  {
   "cell_type": "markdown",
   "id": "e99048b3-5c0d-48ba-b42e-56ab89bbf1b4",
   "metadata": {},
   "source": [
    "# Leitura de Arquivos"
   ]
  },
  {
   "cell_type": "code",
   "execution_count": 2,
   "id": "b82b582c-62dc-420a-94e6-d43d7b6bae8a",
   "metadata": {},
   "outputs": [],
   "source": [
    "#Economic Freedom World\n",
    "path_efw = \"efw_cc.csv\" \n",
    "\n",
    "path_bill = \"2022_forbes_billionaires.csv\"\n",
    "path_happy = \"Happy_2019.csv\"\n",
    "path_HDI = \"Human Development Index.csv\"\n",
    "path_suicide = \"Suicide_master.csv\"\n",
    "\n",
    "#Arquivos complementares de PIB e População\n",
    "path_pop = \"populationbycountry19802010millions.csv\"\n",
    "path_GDP = \"GDP/gdp.csv\"\n",
    "\n",
    "#Percepção de Corrupção\n",
    "path_corr = \"Corruption/history.csv\"\n",
    "\n",
    "#Melhores Paises para Startups\n",
    "path_star = \"Best Countries/Best Countries for Startups.csv\"\n",
    "\n",
    "#Expectativas de Vida\n",
    "#path_life = \"Life expectancy.csv\"\n",
    "\n",
    "#Gastos Militares em USD\n",
    "path_militar = \"Military Expenditure.csv\"\n",
    "\n",
    "#Salário Mínimo em USD\n",
    "#path_MW = \"MINIMUM_WAGES.csv\"\n"
   ]
  },
  {
   "cell_type": "code",
   "execution_count": 3,
   "id": "228f113a-99aa-4989-ae43-c664f5565469",
   "metadata": {},
   "outputs": [],
   "source": [
    "data_efw = pd.read_csv(path_efw, sep=',')\n",
    "\n",
    "data_bill = pd.read_csv(path_bill, sep=',')\n",
    "data_happy = pd.read_csv(path_happy, sep=',')\n",
    "data_HDI = pd.read_csv(path_HDI, sep=',')\n",
    "data_suicide = pd.read_csv(path_suicide, sep=',')\n",
    "\n",
    "data_pop = pd.read_csv(path_pop, sep=',', index_col = 0)\n",
    "data_GDP = pd.read_csv(path_GDP, sep=',', index_col = 0)\n",
    "\n",
    "data_corr = pd.read_csv(path_corr, sep=',')\n",
    "data_star = pd.read_csv(path_star, sep=',')\n",
    "#data_life = pd.read_csv(path_life, sep=',')\n",
    "data_militar = pd.read_csv(path_militar, sep=',')\n",
    "#data_MW = pd.read_csv(path_MW, sep=',')\n"
   ]
  },
  {
   "cell_type": "markdown",
   "id": "039269e9-bf89-4d2c-96d8-7dd99b4aa3bb",
   "metadata": {},
   "source": [
    "# Primeira vizualização e tratamento dos datasets."
   ]
  },
  {
   "cell_type": "code",
   "execution_count": 59,
   "id": "2b74eca5-525f-4f3f-ba5d-a54b2bf545ae",
   "metadata": {},
   "outputs": [],
   "source": [
    "#Escolha dos Países a Serem Analizados\n",
    "countries = np.array(['Brazil', 'Denmark', 'South Korea', 'New Zealand', 'United States'])#, 'Venezuela'])"
   ]
  },
  {
   "cell_type": "code",
   "execution_count": 37,
   "id": "445ceb47-df4f-4e35-b29a-fac64829a44a",
   "metadata": {},
   "outputs": [
    {
     "ename": "KeyError",
     "evalue": "\"['Unnamed: 0'] not found in axis\"",
     "output_type": "error",
     "traceback": [
      "\u001b[1;31m---------------------------------------------------------------------------\u001b[0m",
      "\u001b[1;31mKeyError\u001b[0m                                  Traceback (most recent call last)",
      "Input \u001b[1;32mIn [37]\u001b[0m, in \u001b[0;36m<cell line: 4>\u001b[1;34m()\u001b[0m\n\u001b[0;32m      1\u001b[0m \u001b[38;5;66;03m#Padronizando Nomes de Estudo\u001b[39;00m\n\u001b[0;32m      2\u001b[0m data_efw[\u001b[38;5;124m'\u001b[39m\u001b[38;5;124mcountries\u001b[39m\u001b[38;5;124m'\u001b[39m] \u001b[38;5;241m=\u001b[39m data_efw[\u001b[38;5;124m'\u001b[39m\u001b[38;5;124mcountries\u001b[39m\u001b[38;5;124m'\u001b[39m]\u001b[38;5;241m.\u001b[39mstr\u001b[38;5;241m.\u001b[39mreplace(\u001b[38;5;124m'\u001b[39m\u001b[38;5;124mKorea, South\u001b[39m\u001b[38;5;124m'\u001b[39m, \u001b[38;5;124m'\u001b[39m\u001b[38;5;124mSouth Korea\u001b[39m\u001b[38;5;124m'\u001b[39m)\n\u001b[1;32m----> 4\u001b[0m \u001b[43mdata_bill\u001b[49m\u001b[38;5;241;43m.\u001b[39;49m\u001b[43mdrop\u001b[49m\u001b[43m(\u001b[49m\u001b[38;5;124;43m'\u001b[39;49m\u001b[38;5;124;43mUnnamed: 0\u001b[39;49m\u001b[38;5;124;43m'\u001b[39;49m\u001b[43m,\u001b[49m\u001b[43m \u001b[49m\u001b[43maxis\u001b[49m\u001b[38;5;241;43m=\u001b[39;49m\u001b[38;5;241;43m1\u001b[39;49m\u001b[43m,\u001b[49m\u001b[43m \u001b[49m\u001b[43minplace\u001b[49m\u001b[38;5;241;43m=\u001b[39;49m\u001b[38;5;28;43;01mTrue\u001b[39;49;00m\u001b[43m)\u001b[49m\n\u001b[0;32m      5\u001b[0m data_bill\u001b[38;5;241m.\u001b[39mset_index(\u001b[38;5;124m'\u001b[39m\u001b[38;5;124mrank\u001b[39m\u001b[38;5;124m'\u001b[39m)\n\u001b[0;32m      6\u001b[0m data_bill[\u001b[38;5;124m'\u001b[39m\u001b[38;5;124mnetworth\u001b[39m\u001b[38;5;124m'\u001b[39m]\u001b[38;5;241m=\u001b[39mdata_bill[\u001b[38;5;124m'\u001b[39m\u001b[38;5;124mnetworth\u001b[39m\u001b[38;5;124m'\u001b[39m]\u001b[38;5;241m.\u001b[39mstr\u001b[38;5;241m.\u001b[39mreplace(\u001b[38;5;124m'\u001b[39m\u001b[38;5;124m$\u001b[39m\u001b[38;5;124m'\u001b[39m,\u001b[38;5;124m'\u001b[39m\u001b[38;5;124m'\u001b[39m, regex\u001b[38;5;241m=\u001b[39m\u001b[38;5;28;01mTrue\u001b[39;00m)\n",
      "File \u001b[1;32m~\\anaconda3\\envs\\DigitalHouse\\lib\\site-packages\\pandas\\util\\_decorators.py:311\u001b[0m, in \u001b[0;36mdeprecate_nonkeyword_arguments.<locals>.decorate.<locals>.wrapper\u001b[1;34m(*args, **kwargs)\u001b[0m\n\u001b[0;32m    305\u001b[0m \u001b[38;5;28;01mif\u001b[39;00m \u001b[38;5;28mlen\u001b[39m(args) \u001b[38;5;241m>\u001b[39m num_allow_args:\n\u001b[0;32m    306\u001b[0m     warnings\u001b[38;5;241m.\u001b[39mwarn(\n\u001b[0;32m    307\u001b[0m         msg\u001b[38;5;241m.\u001b[39mformat(arguments\u001b[38;5;241m=\u001b[39marguments),\n\u001b[0;32m    308\u001b[0m         \u001b[38;5;167;01mFutureWarning\u001b[39;00m,\n\u001b[0;32m    309\u001b[0m         stacklevel\u001b[38;5;241m=\u001b[39mstacklevel,\n\u001b[0;32m    310\u001b[0m     )\n\u001b[1;32m--> 311\u001b[0m \u001b[38;5;28;01mreturn\u001b[39;00m func(\u001b[38;5;241m*\u001b[39margs, \u001b[38;5;241m*\u001b[39m\u001b[38;5;241m*\u001b[39mkwargs)\n",
      "File \u001b[1;32m~\\anaconda3\\envs\\DigitalHouse\\lib\\site-packages\\pandas\\core\\frame.py:4948\u001b[0m, in \u001b[0;36mDataFrame.drop\u001b[1;34m(self, labels, axis, index, columns, level, inplace, errors)\u001b[0m\n\u001b[0;32m   4800\u001b[0m \u001b[38;5;129m@deprecate_nonkeyword_arguments\u001b[39m(version\u001b[38;5;241m=\u001b[39m\u001b[38;5;28;01mNone\u001b[39;00m, allowed_args\u001b[38;5;241m=\u001b[39m[\u001b[38;5;124m\"\u001b[39m\u001b[38;5;124mself\u001b[39m\u001b[38;5;124m\"\u001b[39m, \u001b[38;5;124m\"\u001b[39m\u001b[38;5;124mlabels\u001b[39m\u001b[38;5;124m\"\u001b[39m])\n\u001b[0;32m   4801\u001b[0m \u001b[38;5;28;01mdef\u001b[39;00m \u001b[38;5;21mdrop\u001b[39m(\n\u001b[0;32m   4802\u001b[0m     \u001b[38;5;28mself\u001b[39m,\n\u001b[1;32m   (...)\u001b[0m\n\u001b[0;32m   4809\u001b[0m     errors: \u001b[38;5;28mstr\u001b[39m \u001b[38;5;241m=\u001b[39m \u001b[38;5;124m\"\u001b[39m\u001b[38;5;124mraise\u001b[39m\u001b[38;5;124m\"\u001b[39m,\n\u001b[0;32m   4810\u001b[0m ):\n\u001b[0;32m   4811\u001b[0m     \u001b[38;5;124;03m\"\"\"\u001b[39;00m\n\u001b[0;32m   4812\u001b[0m \u001b[38;5;124;03m    Drop specified labels from rows or columns.\u001b[39;00m\n\u001b[0;32m   4813\u001b[0m \n\u001b[1;32m   (...)\u001b[0m\n\u001b[0;32m   4946\u001b[0m \u001b[38;5;124;03m            weight  1.0     0.8\u001b[39;00m\n\u001b[0;32m   4947\u001b[0m \u001b[38;5;124;03m    \"\"\"\u001b[39;00m\n\u001b[1;32m-> 4948\u001b[0m     \u001b[38;5;28;01mreturn\u001b[39;00m \u001b[38;5;28;43msuper\u001b[39;49m\u001b[43m(\u001b[49m\u001b[43m)\u001b[49m\u001b[38;5;241;43m.\u001b[39;49m\u001b[43mdrop\u001b[49m\u001b[43m(\u001b[49m\n\u001b[0;32m   4949\u001b[0m \u001b[43m        \u001b[49m\u001b[43mlabels\u001b[49m\u001b[38;5;241;43m=\u001b[39;49m\u001b[43mlabels\u001b[49m\u001b[43m,\u001b[49m\n\u001b[0;32m   4950\u001b[0m \u001b[43m        \u001b[49m\u001b[43maxis\u001b[49m\u001b[38;5;241;43m=\u001b[39;49m\u001b[43maxis\u001b[49m\u001b[43m,\u001b[49m\n\u001b[0;32m   4951\u001b[0m \u001b[43m        \u001b[49m\u001b[43mindex\u001b[49m\u001b[38;5;241;43m=\u001b[39;49m\u001b[43mindex\u001b[49m\u001b[43m,\u001b[49m\n\u001b[0;32m   4952\u001b[0m \u001b[43m        \u001b[49m\u001b[43mcolumns\u001b[49m\u001b[38;5;241;43m=\u001b[39;49m\u001b[43mcolumns\u001b[49m\u001b[43m,\u001b[49m\n\u001b[0;32m   4953\u001b[0m \u001b[43m        \u001b[49m\u001b[43mlevel\u001b[49m\u001b[38;5;241;43m=\u001b[39;49m\u001b[43mlevel\u001b[49m\u001b[43m,\u001b[49m\n\u001b[0;32m   4954\u001b[0m \u001b[43m        \u001b[49m\u001b[43minplace\u001b[49m\u001b[38;5;241;43m=\u001b[39;49m\u001b[43minplace\u001b[49m\u001b[43m,\u001b[49m\n\u001b[0;32m   4955\u001b[0m \u001b[43m        \u001b[49m\u001b[43merrors\u001b[49m\u001b[38;5;241;43m=\u001b[39;49m\u001b[43merrors\u001b[49m\u001b[43m,\u001b[49m\n\u001b[0;32m   4956\u001b[0m \u001b[43m    \u001b[49m\u001b[43m)\u001b[49m\n",
      "File \u001b[1;32m~\\anaconda3\\envs\\DigitalHouse\\lib\\site-packages\\pandas\\core\\generic.py:4279\u001b[0m, in \u001b[0;36mNDFrame.drop\u001b[1;34m(self, labels, axis, index, columns, level, inplace, errors)\u001b[0m\n\u001b[0;32m   4277\u001b[0m \u001b[38;5;28;01mfor\u001b[39;00m axis, labels \u001b[38;5;129;01min\u001b[39;00m axes\u001b[38;5;241m.\u001b[39mitems():\n\u001b[0;32m   4278\u001b[0m     \u001b[38;5;28;01mif\u001b[39;00m labels \u001b[38;5;129;01mis\u001b[39;00m \u001b[38;5;129;01mnot\u001b[39;00m \u001b[38;5;28;01mNone\u001b[39;00m:\n\u001b[1;32m-> 4279\u001b[0m         obj \u001b[38;5;241m=\u001b[39m \u001b[43mobj\u001b[49m\u001b[38;5;241;43m.\u001b[39;49m\u001b[43m_drop_axis\u001b[49m\u001b[43m(\u001b[49m\u001b[43mlabels\u001b[49m\u001b[43m,\u001b[49m\u001b[43m \u001b[49m\u001b[43maxis\u001b[49m\u001b[43m,\u001b[49m\u001b[43m \u001b[49m\u001b[43mlevel\u001b[49m\u001b[38;5;241;43m=\u001b[39;49m\u001b[43mlevel\u001b[49m\u001b[43m,\u001b[49m\u001b[43m \u001b[49m\u001b[43merrors\u001b[49m\u001b[38;5;241;43m=\u001b[39;49m\u001b[43merrors\u001b[49m\u001b[43m)\u001b[49m\n\u001b[0;32m   4281\u001b[0m \u001b[38;5;28;01mif\u001b[39;00m inplace:\n\u001b[0;32m   4282\u001b[0m     \u001b[38;5;28mself\u001b[39m\u001b[38;5;241m.\u001b[39m_update_inplace(obj)\n",
      "File \u001b[1;32m~\\anaconda3\\envs\\DigitalHouse\\lib\\site-packages\\pandas\\core\\generic.py:4323\u001b[0m, in \u001b[0;36mNDFrame._drop_axis\u001b[1;34m(self, labels, axis, level, errors, consolidate, only_slice)\u001b[0m\n\u001b[0;32m   4321\u001b[0m         new_axis \u001b[38;5;241m=\u001b[39m axis\u001b[38;5;241m.\u001b[39mdrop(labels, level\u001b[38;5;241m=\u001b[39mlevel, errors\u001b[38;5;241m=\u001b[39merrors)\n\u001b[0;32m   4322\u001b[0m     \u001b[38;5;28;01melse\u001b[39;00m:\n\u001b[1;32m-> 4323\u001b[0m         new_axis \u001b[38;5;241m=\u001b[39m \u001b[43maxis\u001b[49m\u001b[38;5;241;43m.\u001b[39;49m\u001b[43mdrop\u001b[49m\u001b[43m(\u001b[49m\u001b[43mlabels\u001b[49m\u001b[43m,\u001b[49m\u001b[43m \u001b[49m\u001b[43merrors\u001b[49m\u001b[38;5;241;43m=\u001b[39;49m\u001b[43merrors\u001b[49m\u001b[43m)\u001b[49m\n\u001b[0;32m   4324\u001b[0m     indexer \u001b[38;5;241m=\u001b[39m axis\u001b[38;5;241m.\u001b[39mget_indexer(new_axis)\n\u001b[0;32m   4326\u001b[0m \u001b[38;5;66;03m# Case for non-unique axis\u001b[39;00m\n\u001b[0;32m   4327\u001b[0m \u001b[38;5;28;01melse\u001b[39;00m:\n",
      "File \u001b[1;32m~\\anaconda3\\envs\\DigitalHouse\\lib\\site-packages\\pandas\\core\\indexes\\base.py:6644\u001b[0m, in \u001b[0;36mIndex.drop\u001b[1;34m(self, labels, errors)\u001b[0m\n\u001b[0;32m   6642\u001b[0m \u001b[38;5;28;01mif\u001b[39;00m mask\u001b[38;5;241m.\u001b[39many():\n\u001b[0;32m   6643\u001b[0m     \u001b[38;5;28;01mif\u001b[39;00m errors \u001b[38;5;241m!=\u001b[39m \u001b[38;5;124m\"\u001b[39m\u001b[38;5;124mignore\u001b[39m\u001b[38;5;124m\"\u001b[39m:\n\u001b[1;32m-> 6644\u001b[0m         \u001b[38;5;28;01mraise\u001b[39;00m \u001b[38;5;167;01mKeyError\u001b[39;00m(\u001b[38;5;124mf\u001b[39m\u001b[38;5;124m\"\u001b[39m\u001b[38;5;132;01m{\u001b[39;00m\u001b[38;5;28mlist\u001b[39m(labels[mask])\u001b[38;5;132;01m}\u001b[39;00m\u001b[38;5;124m not found in axis\u001b[39m\u001b[38;5;124m\"\u001b[39m)\n\u001b[0;32m   6645\u001b[0m     indexer \u001b[38;5;241m=\u001b[39m indexer[\u001b[38;5;241m~\u001b[39mmask]\n\u001b[0;32m   6646\u001b[0m \u001b[38;5;28;01mreturn\u001b[39;00m \u001b[38;5;28mself\u001b[39m\u001b[38;5;241m.\u001b[39mdelete(indexer)\n",
      "\u001b[1;31mKeyError\u001b[0m: \"['Unnamed: 0'] not found in axis\""
     ]
    }
   ],
   "source": [
    "#Padronizando Nomes de Estudo\n",
    "data_efw['countries'] = data_efw['countries'].str.replace('Korea, South', 'South Korea')\n",
    "\n",
    "data_bill.drop('Unnamed: 0', axis=1, inplace=True)\n",
    "data_bill.set_index('rank')\n",
    "data_bill['networth']=data_bill['networth'].str.replace('$','', regex=True)\n",
    "data_bill['networth']=data_bill['networth'].str.replace(' B','', regex=True)\n",
    "data_bill['networth']=data_bill['networth'].apply(pd.to_numeric)\n",
    "\n",
    "data_HDI['Country'][184] = 'Venezuela'\n",
    "data_HDI['Country'][90] = 'South Korea'\n",
    "\n",
    "#Removendo Espaços em Branco\n",
    "data_HDI['Country'] = data_HDI['Country'].str.strip()\n",
    "\n",
    "data_suicide['country'][data_suicide['country'] == 'Republic of Korea'] = 'South Korea'\n",
    "\n",
    "data_pop.rename(index={'Korea, South':'South Korea'},inplace=True)\n",
    "\n",
    "data_GDP.rename(index={'Venezuela, RB':'Venezuela'},inplace=True)\n",
    "data_GDP.rename(index={'Korea, Rep.':'South Korea'},inplace=True)\n",
    "\n",
    "data_corr[\"Country\"][data_corr[\"Country\"] == 'The United States of America'] = 'United States'\n",
    "data_corr[\"Country\"][data_corr[\"Country\"] == 'Korea (South)'] = 'South Korea'"
   ]
  },
  {
   "cell_type": "code",
   "execution_count": 39,
   "id": "0d9fc4c5-6f6a-4f81-b5d0-a72d95a5a82c",
   "metadata": {},
   "outputs": [],
   "source": [
    "datas = [data_efw,\n",
    "         data_bill, \n",
    "         data_happy, \n",
    "         data_HDI, \n",
    "         data_suicide, \n",
    "         data_pop, \n",
    "         data_GDP, \n",
    "         data_corr, \n",
    "         data_star, \n",
    "         #data_life,\n",
    "         data_militar]\n",
    "         #data_MW]"
   ]
  },
  {
   "cell_type": "code",
   "execution_count": 7,
   "id": "e9d466cf-6b1a-42ca-8ce9-d7b08284c992",
   "metadata": {},
   "outputs": [],
   "source": [
    "# Verificando os dados para Análise\n",
    "#uni = datas[0].countries.unique()\n",
    "#print(len(uni[np.in1d(uni, countries)]))\n",
    "# Apenas o datas[4] e datas[8] não possuem dados sobre Venezuela"
   ]
  },
  {
   "cell_type": "markdown",
   "id": "1d1336f1-430c-4b92-b45d-01102892a210",
   "metadata": {
    "tags": []
   },
   "source": [
    "# Criação dos Dataframes de Estudo."
   ]
  },
  {
   "cell_type": "code",
   "execution_count": 72,
   "id": "9ae04398-32d9-4526-8480-40afa79a0265",
   "metadata": {
    "tags": []
   },
   "outputs": [],
   "source": [
    "DF = []\n",
    "\n",
    "for x in range(len(countries)): \n",
    "    pais = countries[x]\n",
    "\n",
    "    # Parcela A\n",
    "    std = datas[0][datas[0]['countries'] == pais].sort_values(by='year')\n",
    "    std = std.reset_index()\n",
    "    a = std.drop(columns=['index','ISO_code','countries']) #, inplace=True)\n",
    "\n",
    "    # Parcela B e C\n",
    "    b = datas[1][datas[1]['country'] == pais].groupby(['country']).name.count()\n",
    "    c = datas[1][datas[1]['country'] == pais].groupby(['country']).networth.sum()\n",
    "\n",
    "    # Parcela D\n",
    "    d = datas[2][datas[2]['Country or region'] == pais]\n",
    "\n",
    "    # Parcela E\n",
    "    std = datas[3][datas[3]['Country'] == pais].iloc[:,2:].transpose()\n",
    "    std = std.reset_index()\n",
    "    std.columns = ['year', 'HDI']\n",
    "    e = std\n",
    "    e['year'] = e.year.astype(int)\n",
    "\n",
    "\n",
    "    # Parcela F\n",
    "    std = datas[4][datas[4]['country'] == pais]\n",
    "    std = std.drop(columns=['country', 'sex', 'age', 'country-year', 'suicides/100k pop',\n",
    "                            'population', 'gdp_per_capita ($)', 'generation'])#, inplace=True)\n",
    "\n",
    "    #std.iloc[:,4].unique()\n",
    "\n",
    "    std1 = std.iloc[:,:2].groupby(['year']).sum()\n",
    "    f0 = std1.reset_index()\n",
    "\n",
    "    f1 = pd.DataFrame(std.groupby(['year'])['HDI for year'].max())\n",
    "    f2 = pd.DataFrame(std.groupby(['year'])[' gdp_for_year ($) '].max())\n",
    "    ff = pd.concat([f1, f2], axis=1)\n",
    "    ff = ff.reset_index()\n",
    "\n",
    "    f = pd.concat([f0, ff], axis = 1)\n",
    "    f.columns = ['year', 'suicides_no', 'year_2', 'HDI_2', 'GDP_2']\n",
    "\n",
    "    f['GDP_2'] = f['GDP_2'].str.replace(',','')\n",
    "    f['GDP_2'] = f.GDP_2.astype(float)\n",
    "    f.drop(columns=['year_2'], inplace=True)\n",
    "\n",
    "\n",
    "    # Parcela G\n",
    "\n",
    "    std = pd.DataFrame(datas[5].loc[pais])\n",
    "    std = std.reset_index()\n",
    "    std.columns = ['year', 'Population']\n",
    "    g = std\n",
    "    g['year'] = g.year.astype(int)\n",
    "\n",
    "    # Parcela H\n",
    "\n",
    "    std = pd.DataFrame(datas[6].loc[pais][1:])\n",
    "    std = std.reset_index()\n",
    "    std.columns = ['year', 'GDP'] #PIB\n",
    "    h = std.iloc[:-1]\n",
    "    h['year'] = h.year.astype(int)\n",
    "    h['GDP'] = h.GDP.astype(float)\n",
    "\n",
    "    # Parcela I\n",
    "\n",
    "    std = datas[7][datas[7]['Country'] == pais].iloc[:,4:]\n",
    "    std.columns = ['2016', '2015', '2014', '2013', '2012']\n",
    "    std = std.transpose()\n",
    "    std = std.reset_index()\n",
    "    std.columns = ['year', 'CPI']\n",
    "    i = std\n",
    "    i['year'] = i.year.astype(int)\n",
    "\n",
    "    # Parcela J\n",
    "\n",
    "    std = datas[8][datas[8]['country'] == pais].iloc[:,[0,3]].transpose()\n",
    "    std.columns = ['Startups_Score_2020']\n",
    "    j = std\n",
    "\n",
    "    # Parcela K\n",
    "\n",
    "    std = datas[9][datas[9]['Name'] == pais]\n",
    "    std = std.iloc[:,4:].transpose()\n",
    "    std = std.reset_index()\n",
    "    std.columns = ['year', 'Military_Expenditure_USD']\n",
    "    k = std\n",
    "    k['year'] = k.year.astype(int)\n",
    "\n",
    "    # 0 3 4 5 6 9 - DF por pais\n",
    "    # Letras - a e f g h k\n",
    "\n",
    "    # 1 2 7 8 - DF todos os paises\n",
    "    # Letras - b c d i j\n",
    "\n",
    "    ### Unindo os Dataframes em um Único.\n",
    "\n",
    "    df_std = pd.merge(a, e, how = 'outer', on = 'year')\n",
    "    df_std = pd.merge(df_std, f, how = 'outer', on = 'year')\n",
    "    df_std = pd.merge(df_std, g, how = 'outer', on = 'year')\n",
    "    df_std = pd.merge(df_std, h, how = 'outer', on = 'year')\n",
    "    df_std = pd.merge(df_std, k, how = 'outer', on = 'year')\n",
    "    df_std = df_std.sort_values(by='year').reset_index(drop=True)\n",
    "    df_std['HDI_year'] = df_std.loc[:,['HDI','HDI_2']].max(skipna=True, axis=1)\n",
    "    df_std['GDP_year'] = df_std.loc[:,['GDP','GDP_2']].max(skipna=True, axis=1)\n",
    "\n",
    "    # Preenchendo os Valores da População Utilizando regressão linear.\n",
    "\n",
    "    df_inter = df_std.interpolate(method='linear', limit_direction='both', axis=0)\n",
    "    df = df_inter.loc[:,['year','Population']].dropna(how='any')\n",
    "\n",
    "    X = pd.DataFrame(df.year)\n",
    "    y = df.Population\n",
    "\n",
    "    Xtrain, Xtest, ytrain, ytest = train_test_split(X, y, random_state = 1)\n",
    "\n",
    "    model = LinearRegression(fit_intercept = True)\n",
    "    model.fit(Xtrain, ytrain)\n",
    "    ypred = model.predict(pd.DataFrame(df_inter.year))\n",
    "\n",
    "    df_inter['Population_year'] = ypred\n",
    "\n",
    "    # Removendo colunas utilizadas \n",
    "\n",
    "    df_inter.drop(columns=['HDI','HDI_2','GDP','GDP_2', 'Population'], inplace=True)\n",
    "\n",
    "    DF.append(df_inter)"
   ]
  },
  {
   "cell_type": "code",
   "execution_count": 91,
   "id": "b9bf4fd0-0644-4377-867f-6ea5d27cddc9",
   "metadata": {},
   "outputs": [
    {
     "data": {
      "text/plain": [
       "Index(['year', 'ECONOMIC FREEDOM', 'rank', 'quartile',\n",
       "       '1a_government_consumption', '1b_transfers', '1c_gov_enterprises',\n",
       "       '1d_top_marg_tax_rate', '1_size_government', '2a_judicial_independence',\n",
       "       '2b_impartial_courts', '2c_protection_property_rights',\n",
       "       '2d_military_interference', '2e_integrity_legal_system',\n",
       "       '2f_legal_enforcement_contracts', '2g_restrictions_sale_real_property',\n",
       "       '2h_reliability_police', '2i_business_costs_crime',\n",
       "       '2j_gender_adjustment', '2_property_rights', '3a_money_growth',\n",
       "       '3b_std_inflation', '3c_inflation', '3d_freedom_own_foreign_currency',\n",
       "       '3_sound_money', '4a_tariffs', '4b_regulatory_trade_barriers',\n",
       "       '4c_black_market', '4d_control_movement_capital_ppl', '4_trade',\n",
       "       '5a_credit_market_reg', '5b_labor_market_reg', '5c_business_reg',\n",
       "       '5_regulation', 'suicides_no', 'Military_Expenditure_USD', 'HDI_year',\n",
       "       'GDP_year', 'Population_year'],\n",
       "      dtype='object')"
      ]
     },
     "execution_count": 91,
     "metadata": {},
     "output_type": "execute_result"
    }
   ],
   "source": [
    "DF[0].columns"
   ]
  },
  {
   "cell_type": "code",
   "execution_count": 105,
   "id": "262ac7c7-b7f7-4037-a21b-a26370d44c37",
   "metadata": {
    "tags": []
   },
   "outputs": [
    {
     "data": {
      "text/plain": [
       "<matplotlib.legend.Legend at 0x1f59f828f40>"
      ]
     },
     "execution_count": 105,
     "metadata": {},
     "output_type": "execute_result"
    },
    {
     "data": {
      "image/png": "[encoded data removed]",
      "text/plain": [
       "<Figure size 1080x720 with 4 Axes>"
      ]
     },
     "metadata": {
      "needs_background": "light"
     },
     "output_type": "display_data"
    }
   ],
   "source": [
    "fig, axes = plt.subplots(2, 2, sharex=False, figsize=(15,10))\n",
    "\n",
    "num = 4\n",
    "data = DF[num]\n",
    "cc = countries[num]\n",
    "sns.scatterplot(ax=axes[0][0], data = data, x = data['year'] , y = data['ECONOMIC FREEDOM'])\n",
    "sns.scatterplot(ax=axes[0][1], data = data, x = data['year'] , y = data['HDI_year'])\n",
    "sns.scatterplot(ax=axes[1][0], data = data, x = data['year'] , y = data['GDP_year'])\n",
    "sns.scatterplot(ax=axes[1][1], data = data, x = data['year'] , y = data['rank'])\n",
    "\n",
    "plt.legend(labels = cc)"
   ]
  }
 ],
 "metadata": {
  "kernelspec": {
   "display_name": "Python 3 (ipykernel)",
   "language": "python",
   "name": "python3"
  },
  "language_info": {
   "codemirror_mode": {
    "name": "ipython",
    "version": 3
   },
   "file_extension": ".py",
   "mimetype": "text/x-python",
   "name": "python",
   "nbconvert_exporter": "python",
   "pygments_lexer": "ipython3",
   "version": "3.9.12"
  }
 },
 "nbformat": 4,
 "nbformat_minor": 5
}
